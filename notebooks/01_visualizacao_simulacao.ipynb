{
 "cells": [
  {
   "cell_type": "markdown",
   "id": "266a678d",
   "metadata": {},
   "source": [
    "# 📊 Visualização da Simulação SAC\n",
    "\n",
    "Este notebook apresenta a visualização gráfica de um financiamento simulado pelo sistema de amortização constante (SAC). Serão exibidos gráficos relacionados ao saldo devedor, à composição das parcelas e ao valor total pago mês a mês."
   ]
  },
  {
   "cell_type": "markdown",
   "id": "0eafb29f",
   "metadata": {},
   "source": [
    "## 🔧 Configuração do Ambiente\n",
    "\n",
    "Nesta célula, são importadas as bibliotecas necessárias e configurado o caminho para acesso ao código-fonte localizado na pasta `src/`."
   ]
  },
  {
   "cell_type": "code",
   "execution_count": null,
   "id": "dd335d33",
   "metadata": {},
   "outputs": [
    {
     "ename": "NameError",
     "evalue": "name '__file__' is not defined",
     "output_type": "error",
     "traceback": [
      "\u001b[31m---------------------------------------------------------------------------\u001b[39m",
      "\u001b[31mNameError\u001b[39m                                 Traceback (most recent call last)",
      "\u001b[36mCell\u001b[39m\u001b[36m \u001b[39m\u001b[32mIn[1]\u001b[39m\u001b[32m, line 8\u001b[39m\n\u001b[32m      5\u001b[39m \u001b[38;5;28;01mimport\u001b[39;00m\u001b[38;5;250m \u001b[39m\u001b[34;01mmatplotlib\u001b[39;00m\u001b[34;01m.\u001b[39;00m\u001b[34;01mpyplot\u001b[39;00m\u001b[38;5;250m \u001b[39m\u001b[38;5;28;01mas\u001b[39;00m\u001b[38;5;250m \u001b[39m\u001b[34;01mplt\u001b[39;00m\n\u001b[32m      7\u001b[39m \u001b[38;5;66;03m# 🔧 Garante acesso ao diretório src/\u001b[39;00m\n\u001b[32m----> \u001b[39m\u001b[32m8\u001b[39m sys.path.append(os.path.abspath(os.path.join(os.path.dirname(\u001b[34;43m__file__\u001b[39;49m), \u001b[33m'\u001b[39m\u001b[33m..\u001b[39m\u001b[33m'\u001b[39m, \u001b[33m'\u001b[39m\u001b[33msrc\u001b[39m\u001b[33m'\u001b[39m)))\n\u001b[32m     10\u001b[39m \u001b[38;5;28;01mfrom\u001b[39;00m\u001b[38;5;250m \u001b[39m\u001b[34;01mfinanciamento\u001b[39;00m\u001b[38;5;250m \u001b[39m\u001b[38;5;28;01mimport\u001b[39;00m Financiamento\n\u001b[32m     11\u001b[39m \u001b[38;5;28;01mfrom\u001b[39;00m\u001b[38;5;250m \u001b[39m\u001b[34;01msimulador_sac\u001b[39;00m\u001b[38;5;250m \u001b[39m\u001b[38;5;28;01mimport\u001b[39;00m SimuladorSAC\n",
      "\u001b[31mNameError\u001b[39m: name '__file__' is not defined"
     ]
    }
   ],
   "source": [
    "# 📦 Imports necessários\n",
    "import os\n",
    "import sys\n",
    "\n",
    "# Caminho absoluto da pasta onde está o notebook\n",
    "notebook_dir = os.getcwd()\n",
    "\n",
    "# Caminho completo da pasta src\n",
    "src_path = os.path.abspath(os.path.join(notebook_dir, '..', 'src'))\n",
    "\n",
    "# Adiciona ao sys.path se ainda não estiver lá\n",
    "if src_path not in sys.path:\n",
    "    sys.path.append(src_path)\n",
    "\n",
    "from financiamento import Financiamento\n",
    "from simulador_sac import SimuladorSAC\n",
    "from parcela import Parcela"
   ]
  },
  {
   "cell_type": "markdown",
   "id": "59124782",
   "metadata": {},
   "source": [
    "## 💰 Criação do Financiamento e Execução da Simulação\n",
    "\n",
    "Simularemos um financiamento no valor total de R$ 100.000, com entrada de R$ 20.000, prazo de 12 meses e taxa de juros anual de 12%. A simulação retorna uma lista de objetos `Parcela`.\n"
   ]
  },
  {
   "cell_type": "code",
   "execution_count": null,
   "id": "56f61559",
   "metadata": {},
   "outputs": [],
   "source": [
    "# 💰 Criar um financiamento de exemplo\n",
    "financiamento = Financiamento(\n",
    "    valor_total=100000,\n",
    "    entrada=20000,\n",
    "    prazo_anos=1,\n",
    "    sistema='SAC'\n",
    ")\n",
    "\n",
    "# 🧠 Simular com taxa de juros de 12% ao ano\n",
    "simulador = SimuladorSAC(financiamento, taxa_juros_anual=0.12)\n",
    "parcelas = simulador.simular()"
   ]
  },
  {
   "cell_type": "markdown",
   "id": "3d5e7dc2",
   "metadata": {},
   "source": [
    "## 📋 Conversão dos Dados para Tabela\n",
    "\n",
    "Para facilitar a manipulação e visualização, as parcelas simuladas são convertidas para um `DataFrame` do pandas."
   ]
  },
  {
   "cell_type": "code",
   "execution_count": null,
   "id": "0589e2bb",
   "metadata": {},
   "outputs": [],
   "source": [
    "# 📊 Converter parcelas para DataFrame\n",
    "df = pd.DataFrame([{\n",
    "    'Parcela': p.numero,\n",
    "    'Amortização': p.amortizacao,\n",
    "    'Juros': p.juros,\n",
    "    'Valor Total': p.valor_total,\n",
    "    'Saldo Devedor': p.saldo_devedor\n",
    "} for p in parcelas])"
   ]
  },
  {
   "cell_type": "markdown",
   "id": "a18390a3",
   "metadata": {},
   "source": [
    "## 📉 Evolução do Saldo Devedor\n",
    "\n",
    "Gráfico que mostra como o saldo devedor é reduzido ao longo do tempo. No SAC, ele reduz de forma linear devido à amortização constante.\n"
   ]
  },
  {
   "cell_type": "code",
   "execution_count": null,
   "id": "739f5d3a",
   "metadata": {},
   "outputs": [],
   "source": [
    "# 📉 Gráfico 1 – Saldo Devedor ao longo do tempo\n",
    "plt.figure(figsize=(8, 5))\n",
    "plt.plot(df['Parcela'], df['Saldo Devedor'], marker='o')\n",
    "plt.title('Evolução do Saldo Devedor')\n",
    "plt.xlabel('Parcela')\n",
    "plt.ylabel('Saldo Devedor (R$)')\n",
    "plt.grid(True)\n",
    "plt.tight_layout()\n",
    "plt.show()"
   ]
  },
  {
   "cell_type": "markdown",
   "id": "60d7bd8c",
   "metadata": {},
   "source": [
    "## 📊 Composição da Parcela: Juros x Amortização\n",
    "\n",
    "Neste gráfico, visualizamos como a parcela mensal é composta por duas partes: os juros (que decrescem com o tempo) e a amortização (que permanece constante)."
   ]
  },
  {
   "cell_type": "code",
   "execution_count": null,
   "id": "bce716e6",
   "metadata": {},
   "outputs": [],
   "source": [
    "# 📊 Gráfico 2 – Juros vs Amortização\n",
    "plt.figure(figsize=(8, 5))\n",
    "plt.plot(df['Parcela'], df['Juros'], label='Juros', marker='o')\n",
    "plt.plot(df['Parcela'], df['Amortização'], label='Amortização', marker='o')\n",
    "plt.title('Composição da Parcela: Juros x Amortização')\n",
    "plt.xlabel('Parcela')\n",
    "plt.ylabel('Valor (R$)')\n",
    "plt.legend()\n",
    "plt.grid(True)\n",
    "plt.tight_layout()\n",
    "plt.show()"
   ]
  },
  {
   "cell_type": "markdown",
   "id": "81fb9993",
   "metadata": {},
   "source": [
    "## 💸 Valor Total da Parcela ao Longo do Tempo\n",
    "\n",
    "Este gráfico mostra o valor total pago em cada parcela, que diminui ao longo do tempo no sistema SAC devido à redução dos juros."
   ]
  },
  {
   "cell_type": "code",
   "execution_count": null,
   "id": "00532283",
   "metadata": {},
   "outputs": [],
   "source": [
    "# 💸 Gráfico 3 – Valor Total da Parcela\n",
    "plt.figure(figsize=(8, 5))\n",
    "plt.plot(df['Parcela'], df['Valor Total'], color='black', marker='o')\n",
    "plt.title('Valor Total da Parcela (SAC)')\n",
    "plt.xlabel('Parcela')\n",
    "plt.ylabel('Valor Total (R$)')\n",
    "plt.grid(True)\n",
    "plt.tight_layout()\n",
    "plt.show()"
   ]
  },
  {
   "cell_type": "markdown",
   "id": "7266509c",
   "metadata": {},
   "source": [
    "## ✅ Conclusão\n",
    "\n",
    "A simulação confirma o comportamento esperado do sistema SAC. Os gráficos evidenciam a amortização constante, a queda dos juros e a consequente redução do valor total das parcelas ao longo do tempo."
   ]
  }
 ],
 "metadata": {
  "kernelspec": {
   "display_name": "venv",
   "language": "python",
   "name": "python3"
  },
  "language_info": {
   "codemirror_mode": {
    "name": "ipython",
    "version": 3
   },
   "file_extension": ".py",
   "mimetype": "text/x-python",
   "name": "python",
   "nbconvert_exporter": "python",
   "pygments_lexer": "ipython3",
   "version": "3.12.7"
  }
 },
 "nbformat": 4,
 "nbformat_minor": 5
}
